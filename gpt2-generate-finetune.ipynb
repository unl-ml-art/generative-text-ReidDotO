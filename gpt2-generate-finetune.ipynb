{
 "cells": [
  {
   "cell_type": "markdown",
   "metadata": {
    "id": "H7LoMj4GA4n_"
   },
   "source": [
    "#  GPT-2 Generation and Fine-Tuning\n",
    "\n",
    "This is adjusted for use in Reid Brockmeier's (rbrockmeier2@unl.edu) generative-text project. Most of the unused segments were removed, and other changes were mostly adjustments of values.\n",
    "\n",
    "This notebook explores GPT-2 (Generative Pretrained Transformer-2) from OpenAI. Read more about it [here](https://openai.com/blog/better-language-models/).\n",
    "\n",
    "Activities include:\n",
    "\n",
    "0. Setup\n",
    "1. Generate samples from pre-trained gpt-3 model\n",
    "2. Fine-tune gpt-2 on text of your choosing. \n",
    "\n",
    "Adapted by Robert Twomey (rtwomey@unl.edu) for Machine Learning for the Arts SP22 from this [google colab](https://colab.research.google.com/drive/1VLG8e7YSEwypxU-noRNhsv5dW4NfTGce) by [Max Woolf](http://minimaxir.com). See his repo [gpt-2-simple](https://github.com/minimaxir/gpt-2-simple)."
   ]
  },
  {
   "cell_type": "markdown",
   "metadata": {},
   "source": [
    "# 0. Setup"
   ]
  },
  {
   "cell_type": "markdown",
   "metadata": {},
   "source": [
    "Run once to install the library"
   ]
  },
  {
   "cell_type": "code",
   "execution_count": 1,
   "metadata": {},
   "outputs": [
    {
     "name": "stdout",
     "output_type": "stream",
     "text": [
      "Note: you may need to restart the kernel to use updated packages.\n"
     ]
    }
   ],
   "source": [
    "%pip install -q gpt-2-simple"
   ]
  },
  {
   "cell_type": "markdown",
   "metadata": {},
   "source": [
    "restart the kernel and run the imports"
   ]
  },
  {
   "cell_type": "code",
   "execution_count": 2,
   "metadata": {
    "id": "KBkpRgBCBS2_"
   },
   "outputs": [],
   "source": [
    "import gpt_2_simple as gpt2\n",
    "import tensorflow as tf\n",
    "from datetime import datetime"
   ]
  },
  {
   "cell_type": "markdown",
   "metadata": {},
   "source": [
    "note the memory usage (0MiB / 32510MiB) for the Tesla V100.\n",
    "You can re-rerun the above cell to see what memory your code/models are using during training."
   ]
  },
  {
   "cell_type": "markdown",
   "metadata": {
    "id": "0wXB05bPDYxS"
   },
   "source": [
    "## Downloading GPT-2\n",
    "\n",
    "If you're retraining a model on new text, you need to download the GPT-2 model first. \n",
    "\n",
    "There are three released sizes of GPT-2:\n",
    "\n",
    "* `124M` (default): the \"small\" model, 500MB on disk.\n",
    "* `355M`: the \"medium\" model, 1.5GB on disk.\n",
    "* `774M`: the \"large\" model, cannot currently be finetuned with Colaboratory but can be used to generate text from the pretrained model (see later in Notebook)\n",
    "* `1558M`: the \"extra large\", true model. Will not work if a K80/P4 GPU is attached to the notebook. (like `774M`, it cannot be finetuned).\n",
    "\n",
    "Larger models have more knowledge, but take longer to finetune and longer to generate text. You can specify which base model to use by changing `model_name` in the cells below.\n",
    "\n",
    "The next cell downloads it from Google Cloud Storage and saves it in the the current working directory at `/models/<model_name>`."
   ]
  },
  {
   "cell_type": "code",
   "execution_count": 4,
   "metadata": {
    "colab": {
     "base_uri": "https://localhost:8080/"
    },
    "id": "P8wSlgXoDPCR",
    "outputId": "10fc0d7c-d18f-4e11-a2af-bfade8b537eb"
   },
   "outputs": [],
   "source": [
    "model_name = \"355M\" # largest model we can fine-tune"
   ]
  },
  {
   "cell_type": "markdown",
   "metadata": {},
   "source": [
    "run once to download the file"
   ]
  },
  {
   "cell_type": "code",
   "execution_count": 5,
   "metadata": {},
   "outputs": [
    {
     "name": "stderr",
     "output_type": "stream",
     "text": [
      "Fetching checkpoint: 1.05Mit [00:00, 957Mit/s]                                                      \n",
      "Fetching encoder.json: 1.05Mit [00:00, 4.71Mit/s]                                                   \n",
      "Fetching hparams.json: 1.05Mit [00:00, 1.27Git/s]                                                   \n",
      "Fetching model.ckpt.data-00000-of-00001: 1.42Git [00:22, 61.9Mit/s]                                 \n",
      "Fetching model.ckpt.index: 1.05Mit [00:00, 1.33Git/s]                                               \n",
      "Fetching model.ckpt.meta: 1.05Mit [00:00, 4.18Mit/s]                                                \n",
      "Fetching vocab.bpe: 1.05Mit [00:00, 5.41Mit/s]                                                      \n"
     ]
    }
   ],
   "source": [
    "gpt2.download_gpt2(model_name=model_name)"
   ]
  },
  {
   "cell_type": "markdown",
   "metadata": {
    "id": "QQAN3M6RT7Kj"
   },
   "source": [
    "# 1. Generate Text From The Pretrained Model\n",
    "\n",
    "If you want to generate text from the pretrained model pass `model_name` to `gpt2.load_gpt2()` and `gpt2.generate()`. (This is currently the only way to generate text from the 774M or 1558M models with this notebook.)"
   ]
  },
  {
   "cell_type": "code",
   "execution_count": 6,
   "metadata": {
    "colab": {
     "base_uri": "https://localhost:8080/",
     "height": 124
    },
    "id": "BAe4NpKNUj2C",
    "outputId": "b09bfe1d-2ff8-4b8a-fffb-273d28d5d4ae"
   },
   "outputs": [
    {
     "name": "stderr",
     "output_type": "stream",
     "text": [
      "2022-02-19 12:15:03.602991: I tensorflow/core/platform/cpu_feature_guard.cc:142] This TensorFlow binary is optimized with oneAPI Deep Neural Network Library (oneDNN) to use the following CPU instructions in performance-critical operations:  SSE4.1 SSE4.2 AVX AVX2 AVX512F FMA\n",
      "To enable them in other operations, rebuild TensorFlow with the appropriate compiler flags.\n",
      "2022-02-19 12:15:04.693336: I tensorflow/core/common_runtime/gpu/gpu_device.cc:1510] Created device /job:localhost/replica:0/task:0/device:GPU:0 with 30979 MB memory:  -> device: 0, name: Tesla V100-PCIE-32GB, pci bus id: 0000:d8:00.0, compute capability: 7.0\n"
     ]
    },
    {
     "name": "stdout",
     "output_type": "stream",
     "text": [
      "Loading pretrained model models/355M/model.ckpt\n",
      "INFO:tensorflow:Restoring parameters from models/355M/model.ckpt\n"
     ]
    }
   ],
   "source": [
    "sess = gpt2.start_tf_sess()\n",
    "\n",
    "gpt2.load_gpt2(sess, model_name=model_name)"
   ]
  },
  {
   "cell_type": "markdown",
   "metadata": {},
   "source": [
    "## Sample from the model\n",
    "The follow cell samples from gpt-2, using the provided prefix (seed) and other parameters. It starts the TF session and generates the samples.\n",
    "\n",
    "Try changing the parameters below to change the output: \n",
    "- `prefix` is the prompt. This will be the starting string/seed for your generation. Use your own text. \n",
    "- `temperature` sets the variability/randomness of the output. Range 0.0-1.0\n",
    "- `length` sets the lenght of output (in tokens). max is 1024.\n"
   ]
  },
  {
   "cell_type": "code",
   "execution_count": 8,
   "metadata": {
    "colab": {
     "base_uri": "https://localhost:8080/",
     "height": 797
    },
    "id": "-xInIZKaU104",
    "outputId": "56348e28-7d08-45e3-c859-f26c0efd066d"
   },
   "outputs": [
    {
     "name": "stdout",
     "output_type": "stream",
     "text": [
      "Charizard used Bug Bite on its first turn, causing it to faint. It used Tail Whip and used Rock Slide to knock its opponent's Pokémon away from it. It used Rock Slide again and used Shadow Ball on its second turn. It used Bug Bite again on its third turn and used Rock Slide to knock its opponent's Pokémon away from it. It used Bug Bite again on its fourth turn and used Rock Slide to knock its opponent's Pokémon away from it. It used Bug Bite again on its fifth turn and\n",
      "====================\n",
      "Charizard used a Starcrawler to attack. Pikachu used a Dragon Rage to counter it. After Pikachu used a Double Team, Mewtwo used a Double Team on Pikachu, who was unable to block it. Pikachu used a Thunderbolt to attack Mewtwo, who was able to block it. Mewtwo used a Dragon Rage to block Pikachu's Dragon Rage, but Pikachu used a Double Team to counter it. Pikachu used a Dragon Rage to counter Mewtwo's Dragon Rage, but Mewtwo used a Double Team to\n",
      "====================\n",
      "Charizard used its tail to pull her along, and she finally arrived at the Pokémon Center. She was greeted by Professor Oak and Professor Birch, who were waiting for her, but were interrupted by Ash and his friends.\n",
      "\n",
      "In the anime\n",
      "\n",
      "In the main series\n",
      "\n",
      "Ash's Pikachu first appeared in Ash and his Pikachu, under the ownership of Ash. He was initially shown as being fairly naive and lacking in confidence. He became very skilled at fighting and later gained the ability to speak.\n",
      "\n",
      "\n",
      "====================\n",
      "Charizard used ThunderShock to hit the bottom right corner of the screen, where he then attacked with Dragon Rage. It was then hit by a ThunderShock, and it was hit again with Dragon Rage.\n",
      "\n",
      "Dragon Rage also hit the top right corner of the screen, where it then hit the top right corner of the screen, where it then hit the top right corner of the screen, where it then hit the bottom left corner of the screen, where it then hit the bottom left corner of the screen,\n",
      "====================\n",
      "Charizard used his Dragon Rage to take down the human.\n",
      "\n",
      "He then used a ThunderShock to send the Dragon back to the Dragon Ball Z anime.\n",
      "\n",
      "Video Game Appearances\n",
      "\n",
      "He makes his debut in the Dragon Ball Z: Budokai Tenkaichi 2. He is a playable character in the game. He is a playable character in the game.\n",
      "\n",
      "Pokémon\n",
      "\n",
      "Voice actors\n",
      "\n",
      "Language Voice actor Japanese ルシキ ティススリート Rival\n",
      "====================\n"
     ]
    }
   ],
   "source": [
    "gpt2.generate(sess,\n",
    "              model_name=model_name,\n",
    "              prefix=\"Charizard used\",\n",
    "              length=100,\n",
    "              temperature=0.7,\n",
    "              top_p=0.9,\n",
    "              nsamples=5,\n",
    "              batch_size=5\n",
    "              )"
   ]
  },
  {
   "cell_type": "markdown",
   "metadata": {},
   "source": [
    "## Activities\n",
    "- try varying the prefix. \n",
    "  - what length of prefix works best with the given model? \n",
    "  - how does the choice of prefix change the format/form of the output.\n",
    "- try varying the temperature.\n",
    "- try loading the different sized models (124M, 355M, 774M, 1558M) and generate text without changing the other parameters. \n",
    "  - Do you notice any qualitative differences in the output? "
   ]
  },
  {
   "cell_type": "markdown",
   "metadata": {},
   "source": [
    "# 2. Fine-Tuning GPT-2"
   ]
  },
  {
   "cell_type": "markdown",
   "metadata": {},
   "source": [
    "If you have already generated with gpt2, you need to reset the tf graph and gpt2 session. Otherwise, we create a new one:"
   ]
  },
  {
   "cell_type": "code",
   "execution_count": 23,
   "metadata": {
    "colab": {
     "base_uri": "https://localhost:8080/"
    },
    "id": "aeXshJM-Cuaf",
    "outputId": "a3c75caa-917b-4818-ca2d-d78610d8b6f2"
   },
   "outputs": [
    {
     "name": "stderr",
     "output_type": "stream",
     "text": [
      "2022-02-19 13:09:15.523258: I tensorflow/core/common_runtime/gpu/gpu_device.cc:1510] Created device /job:localhost/replica:0/task:0/device:GPU:0 with 30979 MB memory:  -> device: 0, name: Tesla V100-PCIE-32GB, pci bus id: 0000:d8:00.0, compute capability: 7.0\n"
     ]
    }
   ],
   "source": [
    "#model_name = \"355M\" # same model as selected above\n",
    "\n",
    "tf.compat.v1.reset_default_graph()\n",
    "\n",
    "# check if sess exists (e.g. if we ran section 1 above)\n",
    "var_exists = 'sess' in locals() or 'sess' in globals()\n",
    "\n",
    "if not var_exists:\n",
    "    sess = gpt2.start_tf_sess()\n",
    "else:\n",
    "    sess = gpt2.reset_session(sess)"
   ]
  },
  {
   "cell_type": "markdown",
   "metadata": {
    "id": "HeeSKtNWUedE"
   },
   "source": [
    "## Upload a text file\n",
    "For this, we will use a text file you provide to finetune (continue training) GPT-2. You can use any plain text (.txt) file. \n",
    "\n",
    "Simply drag and dropy our text file into the file browser at left. \n",
    "\n",
    "Once you have uploaded your file, update the file name in the cell below, then run it."
   ]
  },
  {
   "cell_type": "code",
   "execution_count": 24,
   "metadata": {
    "id": "6OFnPCLADfll"
   },
   "outputs": [],
   "source": [
    "file_name = \"titles.txt\" # Text file containing the title data"
   ]
  },
  {
   "cell_type": "markdown",
   "metadata": {
    "id": "LdpZQXknFNY3"
   },
   "source": [
    "## Run the finetuning\n",
    "\n",
    "The next cell will start the actual finetuning of GPT-2. It creates a persistent TensorFlow session which stores the training config, then runs the training for the specified number of `steps`. (to have the finetuning run indefinitely, set `steps = -1`)\n",
    "\n",
    "The model checkpoints will be saved in `/checkpoint/run1` by default. The checkpoints are saved every `save_every` steps (can be changed) and when the cell is stopped.\n",
    "\n",
    "The training might time out after 4ish hours; make sure you end training and save the results so you don't lose them. If your input text is smaller, training might proceed more quickly.\n",
    "\n",
    "Other optional-but-helpful parameters for `gpt2.finetune`:\n",
    "\n",
    "*  **`restore_from`**: Set to `fresh` to start training from the base GPT-2, or set to `latest` to restart training from an existing checkpoint.\n",
    "* **`sample_every`**: Number of steps to print example output\n",
    "* **`print_every`**: Number of steps to print training progress.\n",
    "* **`learning_rate`**:  Learning rate for the training. (default `1e-4`, can lower to `1e-5` if you have <1MB input data)\n",
    "*  **`run_name`**: subfolder within `checkpoint` to save the model. This is useful if you want to work with multiple models (will also need to specify  `run_name` when loading the model)\n",
    "* **`overwrite`**: Set to `True` if you want to continue finetuning an existing model (w/ `restore_from='latest'`) without creating duplicate copies. "
   ]
  },
  {
   "cell_type": "code",
   "execution_count": 25,
   "metadata": {},
   "outputs": [
    {
     "name": "stdout",
     "output_type": "stream",
     "text": [
      "For larger models, the recommended finetune() parameters are:\n",
      "\tuse_memory_saving_gradients = True\n",
      "\tonly_train_transformer_layers = True\n",
      "\taccumulate_gradients = 1\n",
      "\n",
      "Loading checkpoint models/355M/model.ckpt\n",
      "INFO:tensorflow:Restoring parameters from models/355M/model.ckpt\n",
      "Loading dataset...\n"
     ]
    },
    {
     "name": "stderr",
     "output_type": "stream",
     "text": [
      "100%|██████████| 1/1 [00:02<00:00,  2.63s/it]\n"
     ]
    },
    {
     "name": "stdout",
     "output_type": "stream",
     "text": [
      "dataset has 717405 tokens\n",
      "Training...\n",
      "[10 | 25.78] loss=4.13 avg=4.13\n",
      "[20 | 45.61] loss=3.96 avg=4.04\n",
      "[30 | 65.44] loss=3.81 avg=3.97\n",
      "[40 | 85.29] loss=3.83 avg=3.93\n",
      "[50 | 105.12] loss=3.90 avg=3.92\n",
      "[60 | 124.96] loss=3.63 avg=3.87\n",
      "[70 | 144.81] loss=3.73 avg=3.85\n",
      "[80 | 164.66] loss=3.66 avg=3.83\n",
      "[90 | 184.49] loss=3.47 avg=3.79\n",
      "======== SAMPLE 1 ========\n",
      "st & 3rd:\n",
      "So we see our hero, a young player with an amazing record as a young player, struggling to keep up with the best. As he struggles, our hero looks to win the battle... and he does... he does!\n",
      "3/2/11 - NEW HERO - TURBO: THE SHADOW DANCER (COD Black Ops 3 Zombies) (MAY 9th, 2011 | 1v1) | Part 4\n",
      "Rage Tactics | Part 9 - \"ZOOTHING - RAGE TUNED\"\n",
      "Halloween is over and I'm back for it!\n",
      "I'm sorry this is long, but I'm kinda pissed now… - Episode 5 (Black Ops 2)\n",
      "HTC Vive: THE BEST GAME I HAVEN'T SEEN\n",
      "What if everyone had to die?!\n",
      "Tower Defense - Part 6: THE RAGE\n",
      "THE NEW RUSHING ZOMBIES ZOMBIE TRAIN!\n",
      "\"Funny - Part 3: WINDOWS!!\"\n",
      "THEY BANTER?!\n",
      "TAMPA ZONE TOURNAMENT! (NEW MAP, NEW MAPS, NEW MULTIPLAYER!)\n",
      "This is me running on my own...\n",
      "\"Battlefield 1 - NEW HISTORY! - Season 1 #2 - Battlefield 1 Online - Part 1\"\n",
      "\"Funny - Part 4: SABOTAGE MACHINE!\"\n",
      "HTC Vive :D (NEW) MECHNIC WARFARE ROOM MOD REVAMP\n",
      "Titanfall 2 | WOW! - Part 7 | DUBBING THE DRACOKIRES\n",
      "THIS HAPPY HOUR IS LIKE FISTFUL! - Gameplay & Storyline | Black Ops II - Part 2\n",
      "\"I'm Not Sure If We Should Be Working On Another Game, But At Least I'm Getting Paid For This Time..\"\n",
      "FAMOUS BULLDOGS | GAMEPLAY - Part 23 | FIND SOMEONE\n",
      "I Got a BIGger Job!\n",
      "I'M STILL WANNA PLAY...\n",
      "NEW SENDINTS! Battle Royale!\n",
      "DICE\n",
      "THE GAME IS OVER! | Gmod #1 - TURN 10 ZONE! (Garry's Mod)\n",
      "\"THE END IS NEAR!!!\"\n",
      "They found this one while we were playing..\n",
      "MY NEW STONE NIPPLES GAME! (Drunken Sands Challenge)\n",
      "I STILL think ZOMBIES are weird.\n",
      "BLACK OPS 3 ZOMBIES TRAINING!\n",
      "I'll See You on the Battlefield! - Season 2 Episode 4 - Battlefield 3 Zombies Multiplayer Gameplay Walkthrough\n",
      "\"BO1: NEW WORLD MAP MACHINE!\"\n",
      "MY NINJA GIVEAWAY!\n",
      "JACK'S GIRLFRIEND | Part 5\n",
      "THE SIXTEEN BATTLEFIELD ZOMBIES DECK GAMEPLAY\n",
      "THEY WENT BEYOND MY SPEED! (Tower Defense)\n",
      "Battlefield 3 Zombies - New ZOMBIES MAP! (NEW ZOMBIES MAP, NEW ZOMBOES MAP, NEW ZOMBIES ZOMBIES ZOMBIES MAP)\n",
      "\"DESTINY ZOMBIES MAP! - ZOMBIES ZOMBIES!\"\n",
      "Black Ops 2 ZOMBIES ZOMBIES NEW MAP DECK GAMEPLAY\n",
      "I'M STILL A DUMB GUY! (Misfit High School Student)\n",
      "MY TOWNS! | Fortnite: Legends - Chapter 2 - Fortnite Battle Royale\n",
      "MISFIT HIGH SCHOOL STUDENT VS. JET ZOMBIES!\n",
      "\"THE ORIGINAL BATTLE ROYALE! (Battle Royale)\n",
      "THE HIDDEN ROYALE | BATTLEFIELD JUNGLE - Part 1 | COD BLACK OPS 3 ZOMBIES ZOMBINES\"\n",
      "Fortnite: THE Second Offender\n",
      "MIDI'S GRABS\n",
      "THE FIRST TIME WE'RE ALL ONLINE...\n",
      "I'M A MAN\n",
      "THE DARKEST ZOMBIES EVER!!\n",
      "I SAID NEVER SAY NEVER\n",
      "I'M BACK… BUT...\n",
      "\"The Game of the YEAR: The Legend of Kage: Dark Awakening Part 1 | ZOMBIES ZOMBIES DLC\"\n",
      "I'm a REAL MAN...\n",
      "DICE\n",
      "I AM A MAN..\n",
      "\"GTA 5: LOCKED, SLASHED & RIDED!\"\n",
      "I AM THE LOST ONE! | Game of the Year - 2014 (GTA 5 Online)\n",
      "I WALKED ON TOP Of The BEST ZOMBIES...\n",
      "THE DARKEST ZOMBIES ZOMBIES NEW MAP! (NEW ZOMBIES MAP, NEW ZOMBOES MAP, NEW ZOMBIES ZOMBIES ZOMBINS MAP)\n",
      "\n",
      "[100 | 217.80] loss=3.52 avg=3.76\n",
      "[110 | 237.63] loss=3.59 avg=3.74\n",
      "[120 | 257.48] loss=3.49 avg=3.72\n",
      "[130 | 277.31] loss=3.49 avg=3.70\n",
      "[140 | 297.14] loss=3.41 avg=3.68\n",
      "[150 | 316.99] loss=3.45 avg=3.66\n",
      "[160 | 336.82] loss=3.30 avg=3.64\n",
      "[170 | 356.65] loss=3.29 avg=3.62\n",
      "[180 | 376.51] loss=3.26 avg=3.59\n",
      "[190 | 396.34] loss=3.19 avg=3.57\n",
      "======== SAMPLE 1 ========\n",
      "E2_R2.mp4 | | Cuz You're So Dumb | | | W/ Mr. Rolfe.mp4 | | GONE BUT NOT FORGOTTEN | Diamond Dimensions - Part 15 | |\n",
      "Apex Is Back | #0034 | 4 Year Anniversary\n",
      "\"\"\"BLOODY DIRTY PUSSY\"\" | Ninja Gaiden 3 - Part 3 | Pokemon the First.\"\n",
      "PewDiePie\n",
      "\"\"\"LOL | Minecraft Hardcore - Part 7\"\" | Mod Showcase #4\"\n",
      "Sleeping With Dogs: THE BEST PART!\n",
      "\"*UNDYNE NIGHTS WITH ROUGATESTAR!* | The Forest\"\n",
      "A Game Of Thrones Horror - Feat. @FizzStreamSourFever! | #2\n",
      "Black Ops 3 Zombies Gameplay\n",
      "H2O in the Rain | #3\n",
      "I DIDN'T GET THIS SONG!!!! - BOSS - Part 6\n",
      "NEW VIDEO GAME | The Last Of Us - Playthrough - Part 27 | Gameplay Walkthrough\n",
      "SUBWAY FAN MOVES! (Subnautica)\n",
      "My 2nd Girlfriend BLEW MY SKIN OFF | Funny Or Die\n",
      "\"Dying Light: The Following Part 6 - A Tribute To John Wick's Joker!\"\n",
      "FASTEST GAME ON THE EARTH\n",
      "HUGE SPEEDBALLS - TFT | Funny\n",
      "THE NEW REVEAL - NEW FISHERS CANDY CARDS DLC 2 UPDATE IN STREAM | Teamfight Tactics | TFT\n",
      "I Have an Alien In My Bath.\n",
      "We Need to Get a Job\n",
      "\"BLACK OPS 3 ZOMBIES \"\"THE BANE'\" (VIP, DLC 2)\"\n",
      "Mizkif Reacts to #4\n",
      "How To Play Ninja Run in Minecraft | Minecraft\n",
      "Black Ops 2 Zombies\n",
      "I Caught a BOSS..\n",
      "Minecraft | Fence Sticking Ninja! | Mod Showcase\n",
      "I Can't Understand This...\n",
      "Markiplier - The Story of My New Home\n",
      "\"GTA 5 Online \"\"OVERLORD\"\" Easter Eggs\n",
      "Mizkif Reacts to a CENSORED Fan Game\n",
      "THIS IS UNCHEASY | Dr DisRespect #4\n",
      "Markiplier Highlights - #25\n",
      "Markiplier Highlights #15: \"\"I've Played You In Real Life Before\"\"\n",
      "Gmod Funny Moments - Pokemon Sword\n",
      "\"I Got Pregnant in Minecraft... *END* (Garry's Mod)\n",
      "\"Gmod Hilarious \"\"Wedding Arrangements\"\" \"\"Gone Fishin\"\" Video w/ Vans! [Garry's Mod Live\"\n",
      "*NEW* \"\"BLACK OPS 3 ZOMBIES \"\"HUGE RIFLE\"\" MESSAGES \"\"HIS LIGHT BLOOD\"\"\"\" ZOMBIES \"\"FULL GAME ENDING\"\" (Black Ops Zombies)\"\n",
      "H2O GAMES\n",
      "TikTik: Feat. Jacksepticeye, Jacksepticeye, Dizzy\n",
      "\"JEV PLAYS CRAZY NEW LEVELS (W/ Jacksepticeye & JV)\"\n",
      "GTA 5 Online - GTA Breakouts\n",
      "The Official Podcast #104: \"\"THE END OF THE WORLD\"\"\n",
      "\"GTA 5 PC Mods - NEW Weapons, Mods & More!\"\n",
      "NEW MAP IN JUPITER? - The Escapists\n",
      "Ludwig Von Mises Answers #13 | The Power Of Ideas\n",
      "Nostalgia | Part 11 | FORTNITE GAMEPLAY!\n",
      "Markiplier Highlights #6 - Fortnite Battle Royale!\n",
      "DrDisRespect Reacts to Twitch Top Twitch Clips\n",
      "PewDiePie Reacts to \"\"Minecraft\"\" Highlights, Funny Moments & More!\n",
      "Markiplier Reacts to Twitch Clips #2\n",
      "Gmod Scariest Moments | *BLACK OPS 5 ZOMBIES* | BLOOD OF THE DEAD - Part 10\n",
      "JACKS-UP...\n",
      "My Best Friend's Bf Died In Horror Game\n",
      "I'm sorry i couldn't keep up\n",
      "The End of the World as We Know It\n",
      "Tik Tok\n",
      "I'm the only person in the entire world who gets to play as Jacksepticeye\n",
      "Black Ops 3 - \"\"BLACK OPS COLD WAR CUSTOMS REVEAL REEL\"\"\n",
      "My Secret Santa Reacts to Reddit Clips\n",
      "Garry's Mod: What Happened Next\n",
      "The Walking Dead: Season 2 | Part 6 | SHADOWS OF EVIL\n",
      "\"GTA 5 Online \"\"INSANE\"\" Custom Map! (Bike, Car, Caravan, and More!) - Part 2\"\n",
      "Black Ops 3 Funny Moments: VANGUARD STICKER\n",
      "Black Ops 3: The Game Is AWESOME!!! - Ninja\n",
      "\"HUNTING TALES FROM RIVALS! \"\"BLACK OPS 4 BLACK OPS 3 BLOODSHEDER MULTIPL\n",
      "\n",
      "[200 | 427.65] loss=3.15 avg=3.55\n",
      "Saving checkpoint/run1/model-200\n"
     ]
    }
   ],
   "source": [
    "gpt2.finetune(sess,\n",
    "              dataset=file_name,\n",
    "              model_name=model_name,\n",
    "              steps=200,\n",
    "              restore_from='fresh', # change to 'latest' to resume\n",
    "              run_name='run1',\n",
    "              print_every=10,\n",
    "              learning_rate=1e-5,\n",
    "              sample_every=99,\n",
    "              save_every=200\n",
    "              )"
   ]
  },
  {
   "cell_type": "markdown",
   "metadata": {
    "id": "IXSuTNERaw6K"
   },
   "source": [
    "## Notes on finetuning\n",
    "\n",
    "Keep an eye on the loss, and how quickly it is dropping. A too-rapid drop in loss could be a sign of overfitting, and a learning rate (lr) that is too high. \n",
    "\n",
    "After the model is trained, you can download the checkpoint folder to save your work. Training checkpoints are saved to `checkpoint/run1` (or whatever you chose for the run name above).\n",
    "\n",
    "You can compress it to a rar file and download that. Ask the instructor how.\n",
    "\n",
    "You're done! Feel free to go to the Generate Text From The Trained Model section to generate text based on your retrained model."
   ]
  },
  {
   "cell_type": "markdown",
   "metadata": {},
   "source": [
    "If you have already generated with gpt2, you need to reset the tf graph and gpt2 session. Otherwise, we create a new one:"
   ]
  },
  {
   "cell_type": "markdown",
   "metadata": {
    "id": "ClJwpF_ACONp"
   },
   "source": [
    "# 3. Generate Text From The Finetuned Model\n",
    "\n",
    "After you've trained the model or loaded a retrained model from checkpoint, you can now generate text. `generate` generates a single text from the loaded model."
   ]
  },
  {
   "cell_type": "code",
   "execution_count": 26,
   "metadata": {
    "colab": {
     "base_uri": "https://localhost:8080/"
    },
    "id": "4RNY6RBI9LmL",
    "outputId": "82574eaa-d39a-4665-b611-e5172848da57",
    "tags": []
   },
   "outputs": [
    {
     "name": "stdout",
     "output_type": "stream",
     "text": [
      "OK…I'm getting a little early in the morning here. (Don't give me that name again.)\n",
      "I've been thinking about this and I'm kind of getting lost in a sea of thoughts.\n",
      "MY WORST APPEARANCE EVER!\n",
      "I'm a Surgeon!\n",
      "THE BEST SEXUALLY-HUMANE TEMPTATION EVER!\n",
      "I PICKED A GIRL HANDY!\n",
      "I DIDN'T SEE THIS COMING…\n",
      "This is the most fucked up thing I've ever done (cringe)\n",
      "\"COD WW2 Advanced Warfare - Fortnite Battle Royale Gameplay\"\n",
      "I'm in a battle royale.\n",
      "\"\"\"TEAM ZOMBIES \"\"\"\" GAMEPLAY\"\" \"\"THE GOSPEL OF ZOMBIES - \"\"GAME OVER\"\" - Gameplay, Easter Egg, and Commentary\"\" | Teamfight Tactics Live\" | Teamfight Tactics Podcast\" | Teamfight Tactics Play-By-Play\"\n",
      "I WON THE CHILDHOOD SCARIETTES\n",
      "\"The Most Surprising, Most Sleeping, and Most FAKE Easter Egg in Minecraft\"\n",
      "CALL OF DUTY - FREDDY DEEPERS #2\n",
      "SECRET OF YOUR JOB!\n",
      "HOW TO GET ALL THE FIVE BALLERS!  SECRET OF THE BLACK OPS 4 CORE GAMEPLAY (HTC Vive Virtual Reality)\n",
      "The Official Podcast #26: My New Favorite Submarine\n",
      "A MANY MANLY EYES IN A MATCH! (Shanghai Knights)\n",
      "I've been playing Battlefield 4 for weeks now...\n",
      "\"BONER TO BONER, BONER TO BONER, BONER TO BONER!! (Black Ops 3 Zombies)\"\n",
      "I Didn't Watch You\n",
      "MY SIMPLEEST GAME EVER\n",
      "PARALYZE CHALLENGE!!!\n",
      "YOUTUBER'S NEW RUMBLE IS HERE!\n",
      "RIDING A VR CAMERA (CALL OF DUTY BLACK OPS 3)\n",
      "THE ORIGINS OF THE SHADOW SIMULATOR ARE HERE!\n",
      "I CANT STOP PISSING\n",
      "\"COD WW2 - NEW BATTLE ROYALE GAMEPLAY! - Hardline, Zombies, and Mythic\"\n",
      "\"The Last of Us - Part 3 - Part 2! (Funny, New Map, Bookmark, Hoodie, & More)\"\n",
      "\"\"\"BLACK OPS 3 ZOMBIES\"\" MULTIPLAYER GAMEPLAY! (Multiplayer Mode) (BO3 Zombies)\"\n",
      "I'm a LITTLE DISRESPECTED\n",
      "Things I've been meaning to do for a long time\n",
      "GTA 5 Online - NEW MAPS, GAMEPLAY, & STREAM CHAT! Gameplay/Update #10/May/2017\n",
      "I HATE THIS GAME\n",
      "The REAL BEDTIME MOMENT\n",
      "A NEW CHALLENGE COULD GET ME MARRIED!\n",
      "NEW MEGA INFINITE ENDING TUTORIAL! (FINAL)\n",
      "NO WORDS\n",
      "CALL OF DUTY: BLACK OPS 3 ZOMBIES GAMEPLAY! (Black Ops 3 Zombies)\n",
      "FORTNITE GAMEDAY DISRESPECT (Stream Recap 7/26/17)\n",
      "\"GTA 5 Online - NEW GAMEPLAY, GAMEPLAY, & EASTER EGG CHALLENGE! (GTA 5 Online)\"\n",
      "I'm in your bed..\n",
      "I'M A KID! (Call of Duty: Advanced Warfare)\n",
      "JEV PLAYS FORMER SNIPER! #2\n",
      "\"Poker Face w/ Mike Belshe & JEV PLAYS - $1,000,000 Win! Funny Moments, & Rants!\"\n",
      "Minecraft | FISHING! | Pixelated Humor\n",
      "EVERYTHING'S FRAGILE!!\n",
      "The Official Podcast #49: The Happiest Day of My Life\n",
      "\"Minecraft | LOUDMATE!! | Custom Map Creation, Funny Moments, & More!\"\n",
      "I'VE BEEN GETTING STUCK IN THIS GAME!\n",
      "THE LAST OF US | Gameplay Walkthrough Part 1 | Part 1\n",
      "I'M A LITTLE DETROIT! (Blackout)\n",
      "THE BEST TAKESAW OF ALL TIME?! (Ninja TAKESAW)\n",
      "GTA V - THE GAMEPLAY-ZONE HAS BEEN CREATED! (GTA 5 Online)\n",
      "\"FARGO INSIDER LIVE! - COD MCCLANE, EASTER EGG, AND MORE! (FARGO INSIDER)\"\n",
      "Amnesia: Custom Story - Part 2 - THE STRANGER!\n",
      "\"\"\"GTA 5 Online\"\" - LAZARUS AND THE PIGS?! (GTA 5 Online)\"\n",
      "\"GTA 5 Online - MODERN DAY 02 GAMEPLAY & HIGHLIGHTS! (GTA 5 Online)\"\n",
      "I B\n"
     ]
    }
   ],
   "source": [
    "gpt2.generate(sess, run_name='run1') # no prefix, unconditional generation"
   ]
  },
  {
   "cell_type": "code",
   "execution_count": 27,
   "metadata": {
    "tags": []
   },
   "outputs": [
    {
     "name": "stdout",
     "output_type": "stream",
     "text": [
      "Pokemon Pokemon: Indigo Prophecy (FNAF 2)\n",
      "\"Pokemon Sun and Moon - Part 4 - Zekrom, Raikou & More! (Ultra Ultra Evolution)\"\n",
      "\"Black Ops 3 Zombies - INSANE GAMEPLAY! (Black Ops 3 Zombies Gameplay)\"\n",
      "\"Ludwig Reacts to the Top 10 Best Twitch Plays of All Time!\"\n",
      "\"Minecraft | THE FOREST!\"\n",
      "\"\"\"Worst Comments\"\" | The Escapists\"\n",
      "Ludwig Reacts to the Most #HowILost Moments on Twitch..\n",
      "\"Markiplier Answers an AMA\"\n",
      "$1000,000 FORTNITE DONATIONS!\n",
      "WWE 2K18 DLC Rewards - DUMBEST CHAPTER EVER\n",
      "\"GTA 5 - NEW Online Modes, New Maps, New Custom Weapons, New DLC! (GTA V DLC)\"\n",
      "\"CUP N' SHOPPING GAMEPLAY - LUCKY KID! (Call of Duty: Black Ops 3 Custom Map)\"\n",
      "\"CAMPAIGN OVERVIEW | EXTRAS #18\"\n",
      "\"Mizkif Reacts to his Top 30 Most Overrated Games of All Time\"\n",
      "DrDisrespect's Christmas Review\n",
      "ALL THE NEW MODE! - Pokemon Ultra Sun/Moon (Black Ops 3 Zombies)\n",
      "\"HURRICANE MINECRAFT\"\n",
      "DrDisrespect Reacts to the Top 10 Most Disrespectful Memes\n",
      "\"\"\"GTA 5 Online\"\" | OKC - Part 1 | \"\"TRAINING\"\" | Gmod \"\"GTA 5 Online\"\" #CODGO\"\n",
      "Why I'm Watching Pokemon Blackie\n",
      "\"GTA 5 Online Funny Moments - The New Pokemon - GOOGLE SHOPPING\"\n",
      "\"Hearthstone Funny Moments - Druids' Wands (Feat. MrBacon)\"\n",
      "What Is The Deal With DrDisrespect?\n",
      "MY FAVOURITE GAME\n",
      "SUBMARINE CREATURE CARRIER! (BO2)\n",
      "\"COD Ghosts Funny First Encounter Moments (Xbox 360, PC, PS4) - Fortnite Battle Royale #1!\"\n",
      "\"Minecraft | THE BLUE WING!!!!\"\n",
      "\"Gmod Funny Moments - MORTAL KOMBAT 11, THE BOSS, AND MORE! (Garry's Mod)\"\n",
      "\"Minecraft | DISCO CREAM, FOUNDATIONS, AND EASTER EGGS! (Creative) House Mod Adventure!\"\n",
      "NEW YEAR'S RESOLUTION! - ARK: Survival Evolved - Part 3 (ENDING)\n",
      "\"GTA 5 Online Funny Moments - The Raccoon, Gambling, and More! (GTA V Mods) (GTA V)\"\n",
      "\"Gmod Funny Moments - The Official Motivational Message\"\n",
      "\"Minecraft | THE MARIO RAY\"\n",
      "\"Black Ops 2 Funny Moments - The Walking Dead! (Necromancy, Zombies, and More)\"\n",
      "Sneaky Peeps Take on the World\n",
      "\"Black Ops 3 Funny Moments - Secret Map, Monkey Island, and More!\"\n",
      "I'm a complete Idiot\n",
      "GTA 5 Online Funny Moments - Tossing Money Around! (GTA 5 Online Funny Moments)\n",
      "MAN ON A SEASONAL! (Markiplier Reacts to Top Moments)\n",
      "Mizkif Reacts to the Top 100 Most Overrated Games of All Time\n",
      "Mizkif Reacts to the Top 100 Most Overrated Podcasts of All Time\n",
      "The Worst Christmas Subscription\n",
      "Mizkif Reacts to the Top 100 Most Overrated Songs of All Time\n",
      "SHOOTING CLOUD RUINS THE SNOW!! - Ghost Recon Wildlands Gameplay & Walkthrough #2\n",
      "\"Dying Light: The Following - Part 6 | BLACKOUT!!!\"\n",
      "DrDisrespect Reacts to the Most IDIOTS to Watch SNIPER in Fallout 4 - Part 7\n",
      "Black Ops 3 Zombies Funny Moments - Watching the Snow Fall - (GTAV Zombies)\n",
      "The Most AWFUL Man in the World\n",
      "\"Black Ops 3 Zombies - NEW RELEASE DATE!! (GTA V Zombies)\"\n",
      "\"Watch Dogs 2 Funny Moments - Random Weirdities, New Vehicles, and More!\"\n",
      "THE INTERNET IS PORNOGRAPHY! - The Sims 4 - Part 5 - Part 7\n",
      "3DS ONLY NUKETOWN!!! (COD WW2)\n",
      "How to Get the Greatest Pokemon Pokemon Caster\n",
      "THE MAKING OF DANNY DAFT\n",
      "Markiplier Reacts to Top Twitch Videos of 2015\n",
      "Markiplier Reacts to the Top 20 Most Overrated Twitch Streamers - Top 10\n",
      "\"Markiplier Reacts to Our Top Moments of 2015\n",
      "Dark Souls 2: An Old Friend | Part 4 | BANANA\"\n",
      "I Have Cured Myself\n",
      "It's a BIG DAY!!\n",
      "Get Funny Moments in Minecraft - Minecraft Funny Moments! (and more!)\n",
      "\"Minecraft - How To Build Youself\n"
     ]
    }
   ],
   "source": [
    "gpt2.generate(sess, run_name='run1', prefix=\"Pokemon\")"
   ]
  },
  {
   "cell_type": "markdown",
   "metadata": {
    "id": "oF4-PqF0Fl7R",
    "tags": []
   },
   "source": [
    "## Notes\n",
    "If you're creating an API based on your model and need to pass the generated text elsewhere, you can do `text = gpt2.generate(sess, return_as_list=True)[0]`\n",
    "\n",
    "You can also pass in a `prefix` to the generate function to force the text to start with a given character sequence and generate text from there (good if you add an indicator when the text starts).\n",
    "\n",
    "You can also generate multiple texts at a time by specifing `nsamples`. Unique to GPT-2, you can pass a `batch_size` to generate multiple samples in parallel, giving a massive speedup (in Colaboratory, set a maximum of 20 for `batch_size`).\n",
    "\n",
    "Other optional-but-helpful parameters for `gpt2.generate` and friends:\n",
    "\n",
    "*  **`length`**: Number of tokens to generate (default 1023, the maximum)\n",
    "* **`temperature`**: The higher the temperature, the crazier the text (default 0.7, recommended to keep between 0.7 and 1.0)\n",
    "* **`top_k`**: Limits the generated guesses to the top *k* guesses (default 0 which disables the behavior; if the generated output is super crazy, you may want to set `top_k=40`)\n",
    "* **`top_p`**: Nucleus sampling: limits the generated guesses to a cumulative probability. (gets good results on a dataset with `top_p=0.9`)\n",
    "* **`truncate`**: Truncates the input text until a given sequence, excluding that sequence (e.g. if `truncate='<|endoftext|>'`, the returned text will include everything before the first `<|endoftext|>`). It may be useful to combine this with a smaller `length` if the input texts are short.\n",
    "*  **`include_prefix`**: If using `truncate` and `include_prefix=False`, the specified `prefix` will not be included in the returned text.\n",
    "\n",
    "After testing multiple prefixes and no prefix multiple times, it seemed like a good idea to restrict the outputs a bit to something that is feasible to create. Multiple different games were ran, but \"Pokemon, but\" seemed to produce very interesting results and fit the YouTube channel's typical videos.\n",
    "\n",
    "The Temperature of 0.9 seemed to produce the most variation with interesting results without being incoherent.\n",
    "\n",
    "The length, nsamples, and batch_size were chosen to produce at least 1 full title multiple times with the desired prefix."
   ]
  },
  {
   "cell_type": "code",
   "execution_count": 52,
   "metadata": {
    "colab": {
     "base_uri": "https://localhost:8080/"
    },
    "id": "8DKMc0fiej4N",
    "outputId": "490a4648-d973-4675-cf9a-7a48c16fd736",
    "tags": []
   },
   "outputs": [
    {
     "name": "stdout",
     "output_type": "stream",
     "text": [
      "Pokemon, but with Advanced Warfare\n",
      "GTA V - For the Life | OVERWATCH Storyline DLC (FS)\n",
      "The Next Top Stats\n",
      "====================\n",
      "Pokemon, but I'll tell you what, it'll be fun.\n",
      "Sprint 84 - Beating my Irish friends\n",
      "I'm a\n",
      "====================\n",
      "Pokemon, but we stay with the game!\n",
      "CARRDOWN ROYALE | How to Get the 2,000 IQ Gorilla Med\n",
      "====================\n",
      "Pokemon, but it keeps me awake...\n",
      "\"The Story Of Mario Family Fun* Mario & Luigi: Dream Team \"\" (Final Chapter\"\n",
      "====================\n",
      "Pokemon, but without the Pokemon\n",
      "STEVE KIND OF APARTMENT - Part 9\n",
      "What Happened To Santa Claus? | How\n",
      "====================\n"
     ]
    }
   ],
   "source": [
    "gpt2.generate(sess,\n",
    "              length=25,\n",
    "              temperature=0.9,\n",
    "              prefix=\"Pokemon, but\",\n",
    "              nsamples=5,\n",
    "              batch_size=5\n",
    "              )"
   ]
  },
  {
   "cell_type": "markdown",
   "metadata": {
    "id": "zjjEN2Tafhl2"
   },
   "source": [
    "For bulk generation, you can generate a large amount of text to a file and sort out the samples locally on your computer. The next cell will generate a generated text file with a unique timestamp.\n",
    "\n",
    "You can rerun the cells as many times as you want for even more generated texts!\n",
    "\n",
    "The same values were used here as the previous generation, but this time, it produces a txt file and far more results. This provided 100 different titles with the requested prefix."
   ]
  },
  {
   "cell_type": "code",
   "execution_count": 54,
   "metadata": {
    "id": "Fa6p6arifSL0"
   },
   "outputs": [],
   "source": [
    "gen_file = 'output_{:%Y%m%d_%H%M%S}.txt'.format(datetime.utcnow())\n",
    "\n",
    "gpt2.generate_to_file(sess,\n",
    "                      destination_path=gen_file,\n",
    "                      length=25,\n",
    "                      temperature=0.9,\n",
    "                      prefix=\"Pokemon, but\",\n",
    "                      nsamples=100,\n",
    "                      batch_size=20\n",
    "                      )"
   ]
  },
  {
   "cell_type": "markdown",
   "metadata": {
    "id": "0-LRex8lfv1g"
   },
   "source": [
    "Download the file by hand in the browser at left."
   ]
  },
  {
   "cell_type": "markdown",
   "metadata": {},
   "source": [
    "## Load a Trained Model Checkpoint"
   ]
  },
  {
   "cell_type": "markdown",
   "metadata": {
    "id": "RTa6zf3e_9gV"
   },
   "source": [
    "Uploaded your saved checkpoint and unzip it.\n",
    "\n",
    "The next cell will allow you to load the retrained model checkpoint + metadata necessary to generate text.\n",
    "\n",
    "This will reset or start the tensorflow session as necessary."
   ]
  },
  {
   "cell_type": "code",
   "execution_count": null,
   "metadata": {
    "colab": {
     "base_uri": "https://localhost:8080/"
    },
    "id": "-fxL77nvAMAX",
    "outputId": "8938432a-3b86-4102-f32b-362721ecb897"
   },
   "outputs": [],
   "source": [
    "tf.compat.v1.reset_default_graph()\n",
    "\n",
    "if not sess:\n",
    "    sess = gpt2.start_tf_sess()\n",
    "else:\n",
    "    sess = gpt2.reset_session(sess)\n",
    "\n",
    "gpt2.load_gpt2(sess, run_name='run1')"
   ]
  },
  {
   "cell_type": "markdown",
   "metadata": {
    "id": "ig-KVgkCDCKD"
   },
   "source": [
    "# Etcetera\n",
    "\n",
    "If the notebook has errors (e.g. GPU Sync Fail), force-kill the Colaboratory virtual machine and restart it with the command below:"
   ]
  },
  {
   "cell_type": "code",
   "execution_count": null,
   "metadata": {
    "id": "rIHiVP53FnsX"
   },
   "outputs": [],
   "source": [
    "!kill -9 -1"
   ]
  },
  {
   "cell_type": "markdown",
   "metadata": {
    "id": "wmTXWNUygS5E"
   },
   "source": [
    "# License\n",
    "\n",
    "MIT License\n",
    "\n",
    "Copyright (c) 2019 Max Woolf\n",
    "\n",
    "Permission is hereby granted, free of charge, to any person obtaining a copy\n",
    "of this software and associated documentation files (the \"Software\"), to deal\n",
    "in the Software without restriction, including without limitation the rights\n",
    "to use, copy, modify, merge, publish, distribute, sublicense, and/or sell\n",
    "copies of the Software, and to permit persons to whom the Software is\n",
    "furnished to do so, subject to the following conditions:\n",
    "\n",
    "The above copyright notice and this permission notice shall be included in all\n",
    "copies or substantial portions of the Software.\n",
    "\n",
    "THE SOFTWARE IS PROVIDED \"AS IS\", WITHOUT WARRANTY OF ANY KIND, EXPRESS OR\n",
    "IMPLIED, INCLUDING BUT NOT LIMITED TO THE WARRANTIES OF MERCHANTABILITY,\n",
    "FITNESS FOR A PARTICULAR PURPOSE AND NONINFRINGEMENT. IN NO EVENT SHALL THE\n",
    "AUTHORS OR COPYRIGHT HOLDERS BE LIABLE FOR ANY CLAIM, DAMAGES OR OTHER\n",
    "LIABILITY, WHETHER IN AN ACTION OF CONTRACT, TORT OR OTHERWISE, ARISING FROM,\n",
    "OUT OF OR IN CONNECTION WITH THE SOFTWARE OR THE USE OR OTHER DEALINGS IN THE\n",
    "SOFTWARE."
   ]
  },
  {
   "cell_type": "markdown",
   "metadata": {},
   "source": [
    "# Reference\n",
    "- Max's [blog post](https://minimaxir.com/2019/09/howto-gpt2/) for more information how to use this notebook!\n",
    "- Original repo: [gpt-2-simple](https://github.com/minimaxir/gpt-2-simple) by [Max Woolf](http://minimaxir.com). \n",
    "- Original [google colab](https://colab.research.google.com/drive/1VLG8e7YSEwypxU-noRNhsv5dW4NfTGce) from Max."
   ]
  }
 ],
 "metadata": {
  "accelerator": "GPU",
  "colab": {
   "collapsed_sections": [],
   "include_colab_link": true,
   "name": "Train a GPT-2 Text-Generating Model w/ GPU",
   "provenance": []
  },
  "kernelspec": {
   "display_name": "TensorFlow GPU 2.6 (py39)",
   "language": "python",
   "name": "tensorflow-gpu-2.6-py39"
  },
  "language_info": {
   "codemirror_mode": {
    "name": "ipython",
    "version": 3
   },
   "file_extension": ".py",
   "mimetype": "text/x-python",
   "name": "python",
   "nbconvert_exporter": "python",
   "pygments_lexer": "ipython3",
   "version": "3.9.7"
  }
 },
 "nbformat": 4,
 "nbformat_minor": 4
}
